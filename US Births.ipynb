{
 "cells": [
  {
   "cell_type": "markdown",
   "metadata": {},
   "source": [
    "## Analysis of US Births Data"
   ]
  },
  {
   "cell_type": "code",
   "execution_count": 1,
   "metadata": {},
   "outputs": [],
   "source": [
    "f1 = open(\"US_births_1994-2003_CDC_NCHS.csv\", \"r\") #Open 1994-2003 birth data file\n",
    "f2 = open(\"US_births_2000-2014_SSA.csv\",\"r\") #Open 2000-2014 birth data file\n",
    "g1 = f1.read()\n",
    "g2 = f2.read()"
   ]
  },
  {
   "cell_type": "code",
   "execution_count": 2,
   "metadata": {},
   "outputs": [],
   "source": [
    "def read_csv(filename): #Function to process data string (i.e birht data) into list of list\n",
    "    f = open(filename,'r')\n",
    "    g = f.read()\n",
    "    string_list = g.split(\"\\n\")\n",
    "    new_list = string_list[1:len(string_list)]\n",
    "    final_list = []\n",
    "    \n",
    "    for string in new_list:\n",
    "        int_fields = []\n",
    "        string_fields = string.split(\",\")\n",
    "        for value in string_fields: \n",
    "            int_fields.append(int(value))\n",
    "        final_list.append(int_fields)\n",
    "    \n",
    "    return final_list"
   ]
  },
  {
   "cell_type": "code",
   "execution_count": 3,
   "metadata": {},
   "outputs": [],
   "source": [
    "births_data_one = read_csv(\"US_births_1994-2003_CDC_NCHS.csv\") #Assign 1994-2003 to a variable"
   ]
  },
  {
   "cell_type": "code",
   "execution_count": 4,
   "metadata": {},
   "outputs": [],
   "source": [
    "births_data_two = read_csv(\"US_births_2000-2014_SSA.csv\") #Assign 2000-2014 to a variable"
   ]
  },
  {
   "cell_type": "code",
   "execution_count": 5,
   "metadata": {},
   "outputs": [
    {
     "name": "stdout",
     "output_type": "stream",
     "text": [
      "3652\n",
      "5479\n"
     ]
    }
   ],
   "source": [
    "print(len(births_data_one)) #Check numbers of elements in births_data_one list\n",
    "print(len(births_data_two)) #Check numbers of elements in births_data_two list"
   ]
  },
  {
   "cell_type": "code",
   "execution_count": 6,
   "metadata": {},
   "outputs": [],
   "source": [
    "full_births_data = [] #Create function to take the average of numbers of births in 2 lists for overlapping time period and add those to a new list\n",
    "\n",
    "for n in births_data_one:\n",
    "    for m in births_data_two:\n",
    "        if n[:4] == m[:4]:\n",
    "            avg_births = n[:4]\n",
    "            avg_births.append((n[4]+m[4])/2)\n",
    "            full_births_data.append(avg_births)"
   ]
  },
  {
   "cell_type": "code",
   "execution_count": 7,
   "metadata": {},
   "outputs": [
    {
     "name": "stdout",
     "output_type": "stream",
     "text": [
      "1461\n",
      "[[2000, 1, 1, 6, 8963.0], [2000, 1, 2, 7, 7911.0], [2000, 1, 3, 1, 11243.0], [2000, 1, 4, 2, 12867.5], [2000, 1, 5, 3, 12399.0]]\n",
      "[[2003, 12, 27, 6, 8715.5], [2003, 12, 28, 7, 7704.0], [2003, 12, 29, 1, 12974.0], [2003, 12, 30, 2, 14569.0], [2003, 12, 31, 3, 12457.0]]\n"
     ]
    }
   ],
   "source": [
    "print(len(full_births_data)) #Check the numbers of elements in the new list\n",
    "print(full_births_data[0:5])\n",
    "print(full_births_data[len(full_births_data)-5:len(full_births_data)])"
   ]
  },
  {
   "cell_type": "code",
   "execution_count": 8,
   "metadata": {},
   "outputs": [],
   "source": [
    "for n in births_data_one: #Add remaining elements from births_data_one to the new list\n",
    "    if n[0] < 2000 or n[0] > 2003:\n",
    "        full_births_data.append(n)\n",
    "\n",
    "for m in births_data_two: #Add remaining elements from births_data_two to the new list\n",
    "    if m[0] < 2000 or m[0] > 2003:\n",
    "        full_births_data.append(m)"
   ]
  },
  {
   "cell_type": "code",
   "execution_count": 9,
   "metadata": {},
   "outputs": [],
   "source": [
    "full_births_data.sort() #Sort new list in order to have ascending values"
   ]
  },
  {
   "cell_type": "code",
   "execution_count": 10,
   "metadata": {},
   "outputs": [
    {
     "name": "stdout",
     "output_type": "stream",
     "text": [
      "7670\n",
      "[[1994, 1, 1, 6, 8096], [1994, 1, 2, 7, 7772], [1994, 1, 3, 1, 10142], [1994, 1, 4, 2, 11248], [1994, 1, 5, 3, 11053]]\n",
      "[[2014, 12, 27, 6, 8656], [2014, 12, 28, 7, 7724], [2014, 12, 29, 1, 12811], [2014, 12, 30, 2, 13634], [2014, 12, 31, 3, 11990]]\n"
     ]
    }
   ],
   "source": [
    "print(len(full_births_data)) #Check numbers of elements in full_births_data list\n",
    "print(full_births_data[0:5])\n",
    "print(full_births_data[len(full_births_data)-5:len(full_births_data)])"
   ]
  },
  {
   "cell_type": "code",
   "execution_count": 11,
   "metadata": {},
   "outputs": [
    {
     "data": {
      "text/plain": [
       "365.25"
      ]
     },
     "execution_count": 11,
     "metadata": {},
     "output_type": "execute_result"
    }
   ],
   "source": [
    "(len(births_data_one)+len(births_data_two)-len(full_births_data))/(2003-2000+1) #Check the numbers of overlapping elements removed over numbers of overlapping years"
   ]
  },
  {
   "cell_type": "code",
   "execution_count": 12,
   "metadata": {},
   "outputs": [],
   "source": [
    "year = 0 #Assign indices (columns) of the list to their corresponding names \n",
    "month = 1\n",
    "day_in_month = 2\n",
    "day_in_week = 3"
   ]
  },
  {
   "cell_type": "code",
   "execution_count": 13,
   "metadata": {},
   "outputs": [],
   "source": [
    "def births_counter(listname,time): #Create function to get the total number of births given a filter\n",
    "    births_per_month = {}\n",
    "    for row in listname:\n",
    "        if row[time] in births_per_month: \n",
    "            births_per_month[row[time]] = births_per_month[row[time]] + row[4]\n",
    "        else: \n",
    "            births_per_month[row[time]] = row[4]\n",
    "        \n",
    "    return births_per_month"
   ]
  },
  {
   "cell_type": "code",
   "execution_count": 14,
   "metadata": {},
   "outputs": [
    {
     "data": {
      "text/plain": [
       "{1994: 3952767,\n",
       " 1995: 3899589,\n",
       " 1996: 3891494,\n",
       " 1997: 3880894,\n",
       " 1998: 3941553,\n",
       " 1999: 3959417,\n",
       " 2000: 4104206.0,\n",
       " 2001: 4068448.0,\n",
       " 2002: 4060519.5,\n",
       " 2003: 4126505.0,\n",
       " 2004: 4186863,\n",
       " 2005: 4211941,\n",
       " 2006: 4335154,\n",
       " 2007: 4380784,\n",
       " 2008: 4310737,\n",
       " 2009: 4190991,\n",
       " 2010: 4055975,\n",
       " 2011: 4006908,\n",
       " 2012: 4000868,\n",
       " 2013: 3973337,\n",
       " 2014: 4010532}"
      ]
     },
     "execution_count": 14,
     "metadata": {},
     "output_type": "execute_result"
    }
   ],
   "source": [
    "yearly_count = births_counter(full_births_data,year) #Birth count for each year\n",
    "yearly_count"
   ]
  },
  {
   "cell_type": "code",
   "execution_count": 15,
   "metadata": {},
   "outputs": [
    {
     "data": {
      "text/plain": [
       "{1: 6965337.0,\n",
       " 2: 6499483.0,\n",
       " 3: 7134653.0,\n",
       " 4: 6838788.0,\n",
       " 5: 7162957.0,\n",
       " 6: 7110327.5,\n",
       " 7: 7514039.5,\n",
       " 8: 7610274.0,\n",
       " 9: 7425979.0,\n",
       " 10: 7278954.5,\n",
       " 11: 6869516.5,\n",
       " 12: 7139173.5}"
      ]
     },
     "execution_count": 15,
     "metadata": {},
     "output_type": "execute_result"
    }
   ],
   "source": [
    "monthly_count = births_counter(full_births_data,month) #Birth count for each month\n",
    "monthly_count"
   ]
  },
  {
   "cell_type": "code",
   "execution_count": 16,
   "metadata": {},
   "outputs": [
    {
     "data": {
      "text/plain": [
       "{1: 2760363.0,\n",
       " 2: 2794028.5,\n",
       " 3: 2808749.5,\n",
       " 4: 2761453.5,\n",
       " 5: 2794092.5,\n",
       " 6: 2802364.0,\n",
       " 7: 2831683.5,\n",
       " 8: 2835787.5,\n",
       " 9: 2817908.5,\n",
       " 10: 2840743.5,\n",
       " 11: 2821275.0,\n",
       " 12: 2842177.5,\n",
       " 13: 2752347.5,\n",
       " 14: 2850705.0,\n",
       " 15: 2846786.0,\n",
       " 16: 2838444.5,\n",
       " 17: 2850939.5,\n",
       " 18: 2851484.0,\n",
       " 19: 2836193.5,\n",
       " 20: 2860747.0,\n",
       " 21: 2857513.0,\n",
       " 22: 2833611.0,\n",
       " 23: 2793171.5,\n",
       " 24: 2751444.0,\n",
       " 25: 2715183.5,\n",
       " 26: 2752619.0,\n",
       " 27: 2797051.0,\n",
       " 28: 2822651.5,\n",
       " 29: 2642879.0,\n",
       " 30: 2589780.5,\n",
       " 31: 1595305.0}"
      ]
     },
     "execution_count": 16,
     "metadata": {},
     "output_type": "execute_result"
    }
   ],
   "source": [
    "day_in_month_count = births_counter(full_births_data,day_in_month) #Birth count for each day in month\n",
    "day_in_month_count"
   ]
  },
  {
   "cell_type": "code",
   "execution_count": 17,
   "metadata": {},
   "outputs": [
    {
     "data": {
      "text/plain": [
       "{6: 9433667.5,\n",
       " 7: 8354643.5,\n",
       " 1: 12696783.0,\n",
       " 2: 14044984.5,\n",
       " 3: 13803894.5,\n",
       " 4: 13717755.5,\n",
       " 5: 13497754.0}"
      ]
     },
     "execution_count": 17,
     "metadata": {},
     "output_type": "execute_result"
    }
   ],
   "source": [
    "day_in_week_count = births_counter(full_births_data,day_in_week) #Birth count for each day in week\n",
    "day_in_week_count"
   ]
  },
  {
   "cell_type": "code",
   "execution_count": 18,
   "metadata": {},
   "outputs": [],
   "source": [
    "def max_min_finder (x): #Create function to return the max and min number of births given a filter\n",
    "    max_min = {}\n",
    "    births = []\n",
    "    for time, birth in x.items():\n",
    "        births.append(birth)\n",
    "    \n",
    "        max_min['Max'] = max(births)\n",
    "        max_min['Min'] = min(births)\n",
    "    return max_min"
   ]
  },
  {
   "cell_type": "code",
   "execution_count": 19,
   "metadata": {},
   "outputs": [
    {
     "data": {
      "text/plain": [
       "{'Max': 14044984.5, 'Min': 8354643.5}"
      ]
     },
     "execution_count": 19,
     "metadata": {},
     "output_type": "execute_result"
    }
   ],
   "source": [
    "max_min_finder(day_in_week_count) #Max and min of birth count for each day in week"
   ]
  },
  {
   "cell_type": "code",
   "execution_count": 20,
   "metadata": {},
   "outputs": [
    {
     "data": {
      "text/plain": [
       "{'Max': 2860747.0, 'Min': 1595305.0}"
      ]
     },
     "execution_count": 20,
     "metadata": {},
     "output_type": "execute_result"
    }
   ],
   "source": [
    "max_min_finder(day_in_month_count) #Max and min of birth count for each day in month"
   ]
  },
  {
   "cell_type": "code",
   "execution_count": 22,
   "metadata": {},
   "outputs": [
    {
     "data": {
      "text/plain": [
       "{'Max': 4380784, 'Min': 3880894}"
      ]
     },
     "execution_count": 22,
     "metadata": {},
     "output_type": "execute_result"
    }
   ],
   "source": [
    "max_min_finder(yearly_count) #Max and min of birth count for each year"
   ]
  },
  {
   "cell_type": "code",
   "execution_count": 37,
   "metadata": {},
   "outputs": [
    {
     "data": {
      "text/plain": [
       "{'Max': 7610274.0, 'Min': 6499483.0}"
      ]
     },
     "execution_count": 37,
     "metadata": {},
     "output_type": "execute_result"
    }
   ],
   "source": [
    "max_min_finder(monthly_count) #Max and min of birth count for each month"
   ]
  },
  {
   "cell_type": "code",
   "execution_count": 38,
   "metadata": {},
   "outputs": [],
   "source": [
    "def growth (x): #Create function to find birth growth rate given a filter\n",
    "    births = []\n",
    "    for time, birth in x.items():\n",
    "        births.append(birth)\n",
    "    \n",
    "    births_growth = []\n",
    "    for i in range(len(births)-1):\n",
    "        growth = (births[i + 1] - births[i])/births[i]*100\n",
    "        births_growth.append(growth)\n",
    "    \n",
    "    growth_dic = {}\n",
    "    for i in range(len(births_growth)):\n",
    "        growth_dic[i + min(x)+1] = births_growth[i]\n",
    "    \n",
    "    return growth_dic"
   ]
  },
  {
   "cell_type": "code",
   "execution_count": 41,
   "metadata": {},
   "outputs": [
    {
     "data": {
      "text/plain": [
       "{1995: -1.3453360645846315,\n",
       " 1996: -0.20758597893265163,\n",
       " 1997: -0.27238895909899896,\n",
       " 1998: 1.563016150402459,\n",
       " 1999: 0.4532223719939831,\n",
       " 2000: 3.65682624487393,\n",
       " 2001: -0.8712525638332969,\n",
       " 2002: -0.19487775190932757,\n",
       " 2003: 1.6250506862483975,\n",
       " 2004: 1.4626905819816043,\n",
       " 2005: 0.5989687267054117,\n",
       " 2006: 2.9253258770718773,\n",
       " 2007: 1.0525577638072372,\n",
       " 2008: -1.5989603687376504,\n",
       " 2009: -2.7778544596898396,\n",
       " 2010: -3.2215769492227495,\n",
       " 2011: -1.209746115299034,\n",
       " 2012: -0.15073967258544493,\n",
       " 2013: -0.6881256767281501,\n",
       " 2014: 0.936114907947652}"
      ]
     },
     "execution_count": 41,
     "metadata": {},
     "output_type": "execute_result"
    }
   ],
   "source": [
    "growth(yearly_count) #Birth growth per year"
   ]
  }
 ],
 "metadata": {
  "kernelspec": {
   "display_name": "Python 3",
   "language": "python",
   "name": "python3"
  },
  "language_info": {
   "codemirror_mode": {
    "name": "ipython",
    "version": 3
   },
   "file_extension": ".py",
   "mimetype": "text/x-python",
   "name": "python",
   "nbconvert_exporter": "python",
   "pygments_lexer": "ipython3",
   "version": "3.6.5"
  }
 },
 "nbformat": 4,
 "nbformat_minor": 2
}
